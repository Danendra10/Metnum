{
 "cells": [
  {
   "cell_type": "code",
   "execution_count": 4,
   "id": "397c050b",
   "metadata": {},
   "outputs": [],
   "source": [
    "import numpy as np"
   ]
  },
  {
   "attachments": {
    "image.png": {
     "image/png": "[encoded data removed]"
    }
   },
   "cell_type": "markdown",
   "id": "08668144",
   "metadata": {},
   "source": [
    "f(x)=x2-2x-3 ![image.png](attachment:image.png)"
   ]
  },
  {
   "cell_type": "code",
   "execution_count": 9,
   "id": "e1289026",
   "metadata": {},
   "outputs": [],
   "source": [
    "def fixedPointMethod(gx, x, e):\n",
    "    i = 0\n",
    "    while True:\n",
    "        xr = gx(x)\n",
    "        epsilon = np.abs(xr-x)\n",
    "        print (i, x, epsilon)\n",
    "        x = xr\n",
    "        i+=1\n",
    "        if epsilon < e: break\n",
    "    return x"
   ]
  },
  {
   "cell_type": "code",
   "execution_count": 3,
   "id": "ff4a4c2c",
   "metadata": {},
   "outputs": [],
   "source": [
    "def gx1(x):\n",
    "    return np.sqrt(2*x+3)"
   ]
  },
  {
   "cell_type": "code",
   "execution_count": 4,
   "id": "f29cd6ad",
   "metadata": {},
   "outputs": [],
   "source": [
    "def gx2(x):\n",
    "    return 3/(x-2)"
   ]
  },
  {
   "cell_type": "code",
   "execution_count": 5,
   "id": "b544d8fb",
   "metadata": {},
   "outputs": [],
   "source": [
    "def gx3(x):\n",
    "    return (x**2-3)/2"
   ]
  },
  {
   "cell_type": "code",
   "execution_count": 10,
   "id": "37b9b633",
   "metadata": {
    "scrolled": true
   },
   "outputs": [
    {
     "name": "stdout",
     "output_type": "stream",
     "text": [
      "0 4 0.6833752096446002\n",
      "1 3.3166247903554 0.2128771233066109\n",
      "2 3.103747667048789 0.06936217174705028\n",
      "3 3.0343854953017386 0.022945475875238763\n",
      "4 3.0114400194265 0.007629100135307265\n",
      "5 3.0038109192911926 0.002540881693378516\n",
      "6 3.001270037597814 0.0008467215979486298\n",
      "7 3.0004233159998654 0.00028221398487326965\n",
      "8 3.000141102014992 9.406837868874973e-05\n",
      "9 3.0000470336363034 3.135579850166437e-05\n",
      "10 3.0000156778378018 1.0451896419905182e-05\n",
      "11 3.000005225941382 3.483961426908877e-06\n"
     ]
    },
    {
     "data": {
      "text/plain": [
       "3.000001741979955"
      ]
     },
     "execution_count": 10,
     "metadata": {},
     "output_type": "execute_result"
    }
   ],
   "source": [
    "fixedPointMethod(gx1, 4, 0.00001)"
   ]
  },
  {
   "cell_type": "code",
   "execution_count": 11,
   "id": "8df77376",
   "metadata": {},
   "outputs": [
    {
     "name": "stdout",
     "output_type": "stream",
     "text": [
      "0 4 2.5\n",
      "1 1.5 7.5\n",
      "2 -6.0 5.625\n",
      "3 -0.375 0.888157894736842\n",
      "4 -1.263157894736842 0.34380305602716454\n",
      "5 -0.9193548387096775 0.10826947068258774\n",
      "6 -1.0276243093922652 0.03674839698350607\n",
      "7 -0.9908759124087592 0.012174728225774034\n",
      "8 -1.0030506406345332 0.004066487851111744\n",
      "9 -0.9989841527834215 0.0013545776548956612\n",
      "10 -1.0003387304383171 0.0004516278371610172\n",
      "11 -0.9998871026011561 0.00015053128138087235\n",
      "12 -1.000037633882537 5.017835268361637e-05\n",
      "13 -0.9999874555298534 1.6725977680431825e-05\n",
      "14 -1.0000041815075338 5.5753414356374265e-06\n"
     ]
    },
    {
     "data": {
      "text/plain": [
       "-0.9999986061660981"
      ]
     },
     "execution_count": 11,
     "metadata": {},
     "output_type": "execute_result"
    }
   ],
   "source": [
    "fixedPointMethod(gx2, 4, 0.00001)"
   ]
  },
  {
   "cell_type": "code",
   "execution_count": 12,
   "id": "eda7657e",
   "metadata": {
    "scrolled": true
   },
   "outputs": [
    {
     "name": "stdout",
     "output_type": "stream",
     "text": [
      "0 4 2.5\n",
      "1 6.5 13.125\n",
      "2 19.625 171.4453125\n",
      "3 191.0703125 18061.361846923828\n",
      "4 18252.432159423828 166557385.9350252\n",
      "5 166575638.3671846 1.3873721482141892e+16\n",
      "6 1.387372164871753e+16 9.624007619304671e+31\n",
      "7 9.624007619304673e+31 4.63107613282172e+63\n",
      "8 4.63107613282172e+63 1.0723433073995488e+127\n",
      "9 1.0723433073995488e+127 5.7496008446230166e+253\n"
     ]
    },
    {
     "ename": "OverflowError",
     "evalue": "(34, 'Result too large')",
     "output_type": "error",
     "traceback": [
      "\u001b[1;31m---------------------------------------------------------------------------\u001b[0m",
      "\u001b[1;31mOverflowError\u001b[0m                             Traceback (most recent call last)",
      "\u001b[1;32m<ipython-input-12-fb0b26e4a4f5>\u001b[0m in \u001b[0;36m<module>\u001b[1;34m\u001b[0m\n\u001b[1;32m----> 1\u001b[1;33m \u001b[0mfixedPointMethod\u001b[0m\u001b[1;33m(\u001b[0m\u001b[0mgx3\u001b[0m\u001b[1;33m,\u001b[0m \u001b[1;36m4\u001b[0m\u001b[1;33m,\u001b[0m \u001b[1;36m0.00001\u001b[0m\u001b[1;33m)\u001b[0m\u001b[1;33m\u001b[0m\u001b[1;33m\u001b[0m\u001b[0m\n\u001b[0m",
      "\u001b[1;32m<ipython-input-9-918a5d2dbb04>\u001b[0m in \u001b[0;36mfixedPointMethod\u001b[1;34m(gx, x, e)\u001b[0m\n\u001b[0;32m      2\u001b[0m     \u001b[0mi\u001b[0m \u001b[1;33m=\u001b[0m \u001b[1;36m0\u001b[0m\u001b[1;33m\u001b[0m\u001b[1;33m\u001b[0m\u001b[0m\n\u001b[0;32m      3\u001b[0m     \u001b[1;32mwhile\u001b[0m \u001b[1;32mTrue\u001b[0m\u001b[1;33m:\u001b[0m\u001b[1;33m\u001b[0m\u001b[1;33m\u001b[0m\u001b[0m\n\u001b[1;32m----> 4\u001b[1;33m         \u001b[0mxr\u001b[0m \u001b[1;33m=\u001b[0m \u001b[0mgx\u001b[0m\u001b[1;33m(\u001b[0m\u001b[0mx\u001b[0m\u001b[1;33m)\u001b[0m\u001b[1;33m\u001b[0m\u001b[1;33m\u001b[0m\u001b[0m\n\u001b[0m\u001b[0;32m      5\u001b[0m         \u001b[0mepsilon\u001b[0m \u001b[1;33m=\u001b[0m \u001b[0mnp\u001b[0m\u001b[1;33m.\u001b[0m\u001b[0mabs\u001b[0m\u001b[1;33m(\u001b[0m\u001b[0mxr\u001b[0m\u001b[1;33m-\u001b[0m\u001b[0mx\u001b[0m\u001b[1;33m)\u001b[0m\u001b[1;33m\u001b[0m\u001b[1;33m\u001b[0m\u001b[0m\n\u001b[0;32m      6\u001b[0m         \u001b[0mprint\u001b[0m \u001b[1;33m(\u001b[0m\u001b[0mi\u001b[0m\u001b[1;33m,\u001b[0m \u001b[0mx\u001b[0m\u001b[1;33m,\u001b[0m \u001b[0mepsilon\u001b[0m\u001b[1;33m)\u001b[0m\u001b[1;33m\u001b[0m\u001b[1;33m\u001b[0m\u001b[0m\n",
      "\u001b[1;32m<ipython-input-5-ff829535f6f1>\u001b[0m in \u001b[0;36mgx3\u001b[1;34m(x)\u001b[0m\n\u001b[0;32m      1\u001b[0m \u001b[1;32mdef\u001b[0m \u001b[0mgx3\u001b[0m\u001b[1;33m(\u001b[0m\u001b[0mx\u001b[0m\u001b[1;33m)\u001b[0m\u001b[1;33m:\u001b[0m\u001b[1;33m\u001b[0m\u001b[1;33m\u001b[0m\u001b[0m\n\u001b[1;32m----> 2\u001b[1;33m     \u001b[1;32mreturn\u001b[0m \u001b[1;33m(\u001b[0m\u001b[0mx\u001b[0m\u001b[1;33m**\u001b[0m\u001b[1;36m2\u001b[0m\u001b[1;33m-\u001b[0m\u001b[1;36m3\u001b[0m\u001b[1;33m)\u001b[0m\u001b[1;33m/\u001b[0m\u001b[1;36m2\u001b[0m\u001b[1;33m\u001b[0m\u001b[1;33m\u001b[0m\u001b[0m\n\u001b[0m",
      "\u001b[1;31mOverflowError\u001b[0m: (34, 'Result too large')"
     ]
    }
   ],
   "source": [
    "fixedPointMethod(gx3, 4, 0.00001)"
   ]
  },
  {
   "cell_type": "code",
   "execution_count": 5,
   "id": "4f2ead78",
   "metadata": {},
   "outputs": [],
   "source": [
    "def fx(x):\n",
    "    return np.exp(x)-5*x**2"
   ]
  },
  {
   "cell_type": "code",
   "execution_count": 6,
   "id": "d391a8f0",
   "metadata": {},
   "outputs": [],
   "source": [
    "def derivFx(fx, x):\n",
    "    h = 0.01\n",
    "    return (fx(x+h)-fx(x))/h"
   ]
  },
  {
   "cell_type": "code",
   "execution_count": 7,
   "id": "a5f6752f",
   "metadata": {},
   "outputs": [
    {
     "data": {
      "text/plain": [
       "-7.318081344212901"
      ]
     },
     "execution_count": 7,
     "metadata": {},
     "output_type": "execute_result"
    }
   ],
   "source": [
    "derivFx(fx, 1)"
   ]
  },
  {
   "cell_type": "markdown",
   "id": "4e7cd57e",
   "metadata": {},
   "source": [
    "Metode Newton Raphson"
   ]
  },
  {
   "cell_type": "code",
   "execution_count": 20,
   "id": "3fc343d1",
   "metadata": {},
   "outputs": [],
   "source": [
    "def newtonRaphsonMethod(fxr, x, e):\n",
    "    i = 0\n",
    "    while True:\n",
    "        xr = x - (fxr(x)/derivFx(fxr, x))\n",
    "        epsilon = np.abs(xr-x)\n",
    "        print (i, x, epsilon)\n",
    "        x = xr\n",
    "        i+=1\n",
    "        if epsilon < e: break\n",
    "    return x"
   ]
  },
  {
   "cell_type": "code",
   "execution_count": 23,
   "id": "e78b3ee7",
   "metadata": {
    "scrolled": true
   },
   "outputs": [
    {
     "name": "stdout",
     "output_type": "stream",
     "text": [
      "0 0 1.0471020990384259\n",
      "1 -1.0471020990384259 0.47626572954054847\n",
      "2 -0.5708363694978774 0.17092438890807188\n",
      "3 -0.39991198058980554 0.027962961609741377\n",
      "4 -0.37194901898006416 0.0005366333777358512\n",
      "5 -0.3714123856023283 5.424209648996481e-06\n"
     ]
    },
    {
     "data": {
      "text/plain": [
       "-0.3714178098119773"
      ]
     },
     "execution_count": 23,
     "metadata": {},
     "output_type": "execute_result"
    }
   ],
   "source": [
    "newtonRaphsonMethod(fx, 0, 0.00001)"
   ]
  },
  {
   "cell_type": "markdown",
   "id": "e84b819c",
   "metadata": {},
   "source": [
    "implementasikan newton raphson di persamaaan:"
   ]
  },
  {
   "attachments": {
    "image.png": {
     "image/png": "[encoded data removed]"
    }
   },
   "cell_type": "markdown",
   "id": "814c9116",
   "metadata": {},
   "source": [
    "x2-2x-3![image.png](attachment:image.png)"
   ]
  },
  {
   "cell_type": "markdown",
   "id": "4d57f323",
   "metadata": {},
   "source": [
    "dicoba di nilai x awal berbeda (usahakan mendekati nilai akar sesungguhnya) dan di nilai x yang berada diantara nilai akar-akarnya\n",
    "<br>\n",
    "(x < -3, x>+1, x = -1)"
   ]
  },
  {
   "cell_type": "code",
   "execution_count": null,
   "id": "44f00653",
   "metadata": {},
   "outputs": [],
   "source": []
  }
 ],
 "metadata": {
  "kernelspec": {
   "display_name": "Python 3",
   "language": "python",
   "name": "python3"
  },
  "language_info": {
   "codemirror_mode": {
    "name": "ipython",
    "version": 3
   },
   "file_extension": ".py",
   "mimetype": "text/x-python",
   "name": "python",
   "nbconvert_exporter": "python",
   "pygments_lexer": "ipython3",
   "version": "3.8.10"
  }
 },
 "nbformat": 4,
 "nbformat_minor": 5
}
